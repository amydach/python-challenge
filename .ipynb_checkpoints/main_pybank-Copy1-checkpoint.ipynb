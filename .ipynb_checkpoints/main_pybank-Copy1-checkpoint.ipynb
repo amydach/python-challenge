{
 "cells": [
  {
   "cell_type": "code",
   "execution_count": 2,
   "metadata": {},
   "outputs": [],
   "source": [
    "import os\n",
    "import csv"
   ]
  },
  {
   "cell_type": "code",
   "execution_count": 3,
   "metadata": {},
   "outputs": [
    {
     "data": {
      "text/plain": [
       "'PyBank\\\\Resources\\\\budget_data.csv'"
      ]
     },
     "execution_count": 3,
     "metadata": {},
     "output_type": "execute_result"
    }
   ],
   "source": [
    "os.path.join(\"PyBank\",\"Resources\",\"budget_data.csv\")"
   ]
  },
  {
   "cell_type": "code",
   "execution_count": 4,
   "metadata": {},
   "outputs": [],
   "source": [
    "pybudget = os.path.join(\"PyBank\",\"Resources\",\"budget_data.csv\")"
   ]
  },
  {
   "cell_type": "code",
   "execution_count": 5,
   "metadata": {},
   "outputs": [
    {
     "name": "stdout",
     "output_type": "stream",
     "text": [
      "Jan-2010 85\n"
     ]
    }
   ],
   "source": [
    "with open(pybudget,\"r\") as csvfile:\n",
    "    budget = csv.reader(csvfile, delimiter=',')\n",
    "    header=next(budget)\n",
    "    Date_index=header.index(\"Date\")\n",
    "    for row in budget:\n",
    "        Date=row[Date_index]\n",
    "        row_count=sum(1 for row in budget)\n",
    "        print(Date, row_count)"
   ]
  },
  {
   "cell_type": "code",
   "execution_count": 8,
   "metadata": {},
   "outputs": [
    {
     "name": "stdout",
     "output_type": "stream",
     "text": [
      "```text\n",
      "Financial Analysis\n",
      "----------------------------\n",
      "Total Months: 85\n"
     ]
    }
   ],
   "source": [
    "with open(pybudget,\"r\") as csvfile:\n",
    "    budget = csv.reader(csvfile, delimiter=',')\n",
    "    header=next(budget)\n",
    "    Date_index=header.index(\"Date\")\n",
    "    for row in budget:\n",
    "        Date=row[Date_index]\n",
    "        row_count=sum(1 for row in budget)\n",
    "        print(\"```text\")\n",
    "        print(\"Financial Analysis\")\n",
    "        print(\"----------------------------\")\n",
    "        print(\"Total Months:\" + \" \" + str(row_count))"
   ]
  },
  {
   "cell_type": "code",
   "execution_count": null,
   "metadata": {},
   "outputs": [],
   "source": []
  }
 ],
 "metadata": {
  "kernelspec": {
   "display_name": "Conda [PythonData]",
   "language": "python",
   "name": "pythondata"
  },
  "language_info": {
   "codemirror_mode": {
    "name": "ipython",
    "version": 3
   },
   "file_extension": ".py",
   "mimetype": "text/x-python",
   "name": "python",
   "nbconvert_exporter": "python",
   "pygments_lexer": "ipython3",
   "version": "3.6.8"
  }
 },
 "nbformat": 4,
 "nbformat_minor": 2
}
