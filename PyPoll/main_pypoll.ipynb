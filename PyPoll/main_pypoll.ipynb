{
 "cells": [
  {
   "cell_type": "code",
   "execution_count": 12,
   "metadata": {},
   "outputs": [],
   "source": [
    "import os\n",
    "import csv"
   ]
  },
  {
   "cell_type": "code",
   "execution_count": 13,
   "metadata": {},
   "outputs": [
    {
     "data": {
      "text/plain": [
       "'Resources\\\\election_data.csv'"
      ]
     },
     "execution_count": 13,
     "metadata": {},
     "output_type": "execute_result"
    }
   ],
   "source": [
    "os.path.join(\"Resources\",\"election_data.csv\")"
   ]
  },
  {
   "cell_type": "code",
   "execution_count": 14,
   "metadata": {},
   "outputs": [],
   "source": [
    "csvpath = os.path.join(\"Resources\",\"election_data.csv\")"
   ]
  },
  {
   "cell_type": "code",
   "execution_count": 15,
   "metadata": {},
   "outputs": [
    {
     "name": "stdout",
     "output_type": "stream",
     "text": [
      "<class 'str'>\n",
      "<_io.TextIOWrapper name='Resources\\\\election_data.csv' mode='r' encoding='cp1252'>\n"
     ]
    }
   ],
   "source": [
    "with open(csvpath, 'r') as file_handler:\n",
    "     lines = file_handler.read()\n",
    "     #print(lines)\n",
    "     print(type(lines))\n",
    "     print(file_handler)"
   ]
  },
  {
   "cell_type": "code",
   "execution_count": 16,
   "metadata": {},
   "outputs": [],
   "source": [
    "candidates_votes=[]\n",
    "with open(csvpath, 'r') as csvfile:\n",
    "    \n",
    "    # CSV reader specifies delimiter and variable that holds contents\n",
    "    csvreader = csv.reader(csvfile, delimiter=',')\n",
    "\n",
    "\n",
    "    # Read the header row first (skip this step if there is no header)\n",
    "    header = next(csvreader)\n",
    "    #print(f\" CSV Header: {csv_header}\")\n",
    "    Voter_index=header.index(\"Voter ID\")\n",
    "    Candidate_index=header.index(\"Candidate\")\n",
    "    for row in csvreader:\n",
    "        #Voter=row[Voter_index]\n",
    "        candidates_votes.append(row[Candidate_index])\n",
    "        #row_count=sum(1 for row in csvreader)+1\n",
    "        #print(\"```text\")\n",
    "        #print(\"Election Results\")\n",
    "        #print(\"----------------------------\")\n",
    "        #print(\"Total Votes:\" + \" \" + str(row_count))"
   ]
  },
  {
   "cell_type": "code",
   "execution_count": 17,
   "metadata": {},
   "outputs": [
    {
     "data": {
      "text/plain": [
       "['Khan', \"O'Tooley\", 'Li', 'Correy']"
      ]
     },
     "execution_count": 17,
     "metadata": {},
     "output_type": "execute_result"
    }
   ],
   "source": [
    "candidate_list=list(set(candidates_votes))\n",
    "candidate_list"
   ]
  },
  {
   "cell_type": "code",
   "execution_count": 18,
   "metadata": {},
   "outputs": [
    {
     "data": {
      "text/plain": [
       "3521001"
      ]
     },
     "execution_count": 18,
     "metadata": {},
     "output_type": "execute_result"
    }
   ],
   "source": [
    "#Percentage of votes each candidate won\n",
    "total_votes=len(candidates_votes)\n",
    "total_votes"
   ]
  },
  {
   "cell_type": "code",
   "execution_count": 19,
   "metadata": {},
   "outputs": [
    {
     "data": {
      "text/plain": [
       "[63.0, 3.0, 14.0, 20.0]"
      ]
     },
     "execution_count": 19,
     "metadata": {},
     "output_type": "execute_result"
    }
   ],
   "source": [
    "votes_per_candidate=[]\n",
    "for candidate in candidate_list:\n",
    "    votes_per_candidate.append(candidates_votes.count(candidate))\n",
    "    votes_per_candidate\n",
    "\n",
    "percentages=[round(100*vote/total_votes,4) for vote in votes_per_candidate]\n",
    "percentages"
   ]
  },
  {
   "cell_type": "code",
   "execution_count": 20,
   "metadata": {},
   "outputs": [],
   "source": [
    "#print(\"```text\")\n",
    "#print(\"Election Results\")\n",
    "#print(\"----------------------------\")\n",
    "#print(\"Total Votes:\" + \" \" + str(total_votes))"
   ]
  },
  {
   "cell_type": "code",
   "execution_count": 21,
   "metadata": {
    "scrolled": false
   },
   "outputs": [
    {
     "name": "stdout",
     "output_type": "stream",
     "text": [
      "The candidate Khan has 2218231 votes and 63.0 %\n",
      "The candidate O'Tooley has 105630 votes and 3.0 %\n",
      "The candidate Li has 492940 votes and 14.0 %\n",
      "The candidate Correy has 704200 votes and 20.0 %\n"
     ]
    }
   ],
   "source": [
    "for i in range(0,len(candidate_list)):\n",
    "    print(f\"The candidate {candidate_list[i]} has {votes_per_candidate[i]} votes and {percentages[i]} %\")"
   ]
  },
  {
   "cell_type": "code",
   "execution_count": 22,
   "metadata": {},
   "outputs": [],
   "source": [
    "max_votes = max(votes_per_candidate)\n",
    "\n",
    "for row in range(0,len(candidate_list)):\n",
    "    Total = max_votes\n",
    "    f=open(\"txt\",\"w+\")\n",
    "    with open('txt','w') as out:\n",
    "        line1 = (\"```text\")\n",
    "        line2 = (\"Election Results\")\n",
    "        line3 = (\"----------------------------\")\n",
    "        line4 = (\"Total Votes: \" + \" \" + str(total_votes))\n",
    "        line5 = (\"----------------------------\")\n",
    "        line6 = (\"The candidate \" + str(candidate_list[0]) + \" has \" + str(votes_per_candidate[0]) + \" votes \" + str(percentages[0])+ \"%\")\n",
    "        line7 = (\"The candidate \" + str(candidate_list[1]) + \" has \" + str(votes_per_candidate[1]) + \" votes \" + str(percentages[1])+ \"%\")\n",
    "        line8 = (\"The candidate \" + str(candidate_list[2]) + \" has \" + str(votes_per_candidate[2]) + \" votes \" + str(percentages[2])+ \"%\")\n",
    "        line9 = (\"The candidate \" + str(candidate_list[3]) + \" has \" + str(votes_per_candidate[3]) + \" votes \" + str(percentages[3])+ \"%\")\n",
    "        line10 = (\"----------------------------\")\n",
    "        line11 = (\"Winner:\" + \" \" + str(Total))\n",
    "        line12 = (\"----------------------------\")\n",
    "        line13 = (\"````\")\n",
    "        out.write('{}\\n{}\\n{}\\n{}\\n{}\\n{}\\n{}\\n{}\\n{}\\n{}\\n{}\\n{}\\n{}\\n'.format(line1,line2,line3,line4,line5,line6,line7,line8,line9,line10,line11,line12,line13))\n",
    "f.close()\n",
    "# I know that candidates s/b ranked in descending order, but can't figure it out.\n",
    "# I know the winner s/b Khan, but can't get the corresponding name to appear as winner.\n",
    "# I can't figure out how to get the candidate list to output to the txt, so I give up.\n",
    "# So, I have hard coded the row number of each candidate in the list in lines 6-9, which is not the best but provides the results."
   ]
  },
  {
   "cell_type": "code",
   "execution_count": null,
   "metadata": {},
   "outputs": [],
   "source": []
  }
 ],
 "metadata": {
  "kernelspec": {
   "display_name": "Conda [PythonData]",
   "language": "python",
   "name": "pythondata"
  },
  "language_info": {
   "codemirror_mode": {
    "name": "ipython",
    "version": 3
   },
   "file_extension": ".py",
   "mimetype": "text/x-python",
   "name": "python",
   "nbconvert_exporter": "python",
   "pygments_lexer": "ipython3",
   "version": "3.6.8"
  }
 },
 "nbformat": 4,
 "nbformat_minor": 2
}
