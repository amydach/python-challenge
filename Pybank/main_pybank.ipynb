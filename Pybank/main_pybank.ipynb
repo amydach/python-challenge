{
 "cells": [
  {
   "cell_type": "code",
   "execution_count": 1,
   "metadata": {},
   "outputs": [],
   "source": [
    "import os\n",
    "import csv"
   ]
  },
  {
   "cell_type": "code",
   "execution_count": 2,
   "metadata": {},
   "outputs": [
    {
     "data": {
      "text/plain": [
       "'Resources\\\\budget_data.csv'"
      ]
     },
     "execution_count": 2,
     "metadata": {},
     "output_type": "execute_result"
    }
   ],
   "source": [
    "os.path.join(\"Resources\",\"budget_data.csv\")"
   ]
  },
  {
   "cell_type": "code",
   "execution_count": 3,
   "metadata": {},
   "outputs": [],
   "source": [
    "#pybudget = os.path.join(\"Resources\",\"budget_data.csv\")\n",
    "csvpath = os.path.join(\"Resources\",\"budget_data.csv\")"
   ]
  },
  {
   "cell_type": "code",
   "execution_count": 5,
   "metadata": {},
   "outputs": [],
   "source": [
    "with open(csvpath, 'r') as file_handler:\n",
    "     lines = file_handler.read()\n",
    "     #print(lines)\n",
    "#     print(type(lines))\n",
    "#     print(file_handler)"
   ]
  },
  {
   "cell_type": "code",
   "execution_count": 6,
   "metadata": {},
   "outputs": [
    {
     "name": "stdout",
     "output_type": "stream",
     "text": [
      "Financial Analysis\n",
      "----------------------------\n",
      "Total Months: 86\n",
      "Total : $38382578.0\n"
     ]
    }
   ],
   "source": [
    "Total_Months=0\n",
    "Total = 0\n",
    "Avg_Change = 0\n",
    "PL_Total = 0\n",
    "float_Profits_Losses = 0\n",
    "\n",
    "with open(csvpath,\"r\") as csvfile:\n",
    "   csvreader=csv.reader(csvfile,delimiter=\",\")\n",
    "   header=next(csvreader)\n",
    "   #columns=len(csvreader[0])\n",
    "   Date_index=header.index(\"Date\")\n",
    "   for row in csvreader:\n",
    "       float_Profits_Losses= float(row[1])\n",
    "       PL_Total += float_Profits_Losses\n",
    "       Total += float_Profits_Losses\n",
    "       Total_Months += 1\n",
    "       #Avg_Change = float_Profits_Losses-(PL_Total-float_Profits_Losses)\n",
    "   print(\"Financial Analysis\")\n",
    "   print(\"----------------------------\")\n",
    "   print(\"Total Months:\" + \" \" + str(Total_Months))\n",
    "   print(\"Total :\" + \" $\" + str(Total))\n",
    "   #print(\"Average Change :\" + \" $\" + str(Avg_Change))    "
   ]
  },
  {
   "cell_type": "code",
   "execution_count": 7,
   "metadata": {},
   "outputs": [],
   "source": [
    "PL_Total = 0\n",
    "Sum_Change = 0\n",
    "Avg_Change = 0\n",
    "#float_Profits_Losses = 0\n",
    "\n",
    "\n",
    "\n",
    "with open(csvpath,\"r\") as csvfile:\n",
    "   csvreader = csv.reader(csvfile, delimiter=',')\n",
    "   header=next(csvreader)\n",
    "   Date_index=header.index(\"Date\")\n",
    "   for row in csvreader:\n",
    "       budget_date=row[0]\n",
    "       float_Profits_Losses= float(row[1])\n",
    "       PL_Total += float_Profits_Losses\n",
    "       #Sum_Change = PL_Total-float_Profits_Losses\n",
    "       #Avg_Change = float_Profits_Losses-(PL_Total-float_Profits_Losses)\n",
    "       #print(budget_date, float_Profits_Losses, PL_Total)"
   ]
  }
 ],
 "metadata": {
  "kernelspec": {
   "display_name": "Conda [PythonData]",
   "language": "python",
   "name": "pythondata"
  },
  "language_info": {
   "codemirror_mode": {
    "name": "ipython",
    "version": 3
   },
   "file_extension": ".py",
   "mimetype": "text/x-python",
   "name": "python",
   "nbconvert_exporter": "python",
   "pygments_lexer": "ipython3",
   "version": "3.6.8"
  }
 },
 "nbformat": 4,
 "nbformat_minor": 2
}
