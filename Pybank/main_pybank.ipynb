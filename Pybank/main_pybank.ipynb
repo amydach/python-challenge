{
 "cells": [
  {
   "cell_type": "code",
   "execution_count": 1,
   "metadata": {},
   "outputs": [],
   "source": [
    "import os\n",
    "import csv"
   ]
  },
  {
   "cell_type": "code",
   "execution_count": 2,
   "metadata": {},
   "outputs": [
    {
     "data": {
      "text/plain": [
       "'Resources\\\\budget_data.csv'"
      ]
     },
     "execution_count": 2,
     "metadata": {},
     "output_type": "execute_result"
    }
   ],
   "source": [
    "os.path.join(\"Resources\",\"budget_data.csv\")"
   ]
  },
  {
   "cell_type": "code",
   "execution_count": 3,
   "metadata": {},
   "outputs": [],
   "source": [
    "#pybudget = os.path.join(\"Resources\",\"budget_data.csv\")\n",
    "csvpath = os.path.join(\"Resources\",\"budget_data.csv\")"
   ]
  },
  {
   "cell_type": "code",
   "execution_count": 4,
   "metadata": {},
   "outputs": [],
   "source": [
    "with open(csvpath, 'r') as file_handler:\n",
    "     lines = file_handler.read()\n",
    "     #print(lines)\n",
    "#     print(type(lines))\n",
    "#     print(file_handler)"
   ]
  },
  {
   "cell_type": "code",
   "execution_count": 5,
   "metadata": {},
   "outputs": [
    {
     "name": "stdout",
     "output_type": "stream",
     "text": [
      "Financial Analysis\n",
      "----------------------------\n",
      "Total Months: 86\n",
      "Average Change: \n",
      "Greatest Increase: Feb-2012 $1926159.0\n",
      "Greatest Decrease: Sep-2013 $-2196167.0\n"
     ]
    }
   ],
   "source": [
    "previous_profit=0\n",
    "Total_Month = 0\n",
    "Total = 0\n",
    "monthly_changes=[]\n",
    "total_months=[]\n",
    "\n",
    "\n",
    "with open(csvpath,\"r\") as csvfile:\n",
    "   csvreader=csv.reader(csvfile,delimiter=\",\")\n",
    "   header=next(csvreader)\n",
    "   #columns=len(csvreader[0])\n",
    "   Date_index=header.index(\"Date\")\n",
    "   for row in csvreader:\n",
    "       float_Profits_Losses= float(row[1])\n",
    "       Total += float_Profits_Losses\n",
    "       Total_Month += 1\n",
    "       total_months.append(row[0])\n",
    "       current_profit= float(row[1])\n",
    "       monthly_change=current_profit - previous_profit\n",
    "       monthly_changes.append(monthly_change)\n",
    "       previous_profit=current_profit\n",
    "   monthly_changes = monthly_changes[1:]\n",
    "   #average=sum(monthly_changes)/(total_months - 1)\n",
    "   increase=max(monthly_changes)\n",
    "   decrease=min(monthly_changes)\n",
    "   dateincrease=monthly_changes.index(increase)\n",
    "   datedecrease=monthly_changes.index(decrease)\n",
    "   \n",
    "       \n",
    "   print(\"Financial Analysis\")\n",
    "   print(\"----------------------------\")\n",
    "   print(\"Total Months:\" + \" \" + str(Total_Month))\n",
    "   print(\"Average Change: \")# + \"$\" + str(average))\n",
    "   print(\"Greatest Increase: \" + str(total_months[dateincrease + 1]) + \" $\" + str(increase))\n",
    "   print(\"Greatest Decrease: \" + str(total_months[datedecrease + 1]) + \" $\" + str(decrease)) "
   ]
  }
 ],
 "metadata": {
  "kernelspec": {
   "display_name": "Conda [PythonData]",
   "language": "python",
   "name": "pythondata"
  },
  "language_info": {
   "codemirror_mode": {
    "name": "ipython",
    "version": 3
   },
   "file_extension": ".py",
   "mimetype": "text/x-python",
   "name": "python",
   "nbconvert_exporter": "python",
   "pygments_lexer": "ipython3",
   "version": "3.6.8"
  }
 },
 "nbformat": 4,
 "nbformat_minor": 2
}
